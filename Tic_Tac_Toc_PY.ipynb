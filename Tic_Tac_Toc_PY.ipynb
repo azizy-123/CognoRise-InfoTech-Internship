{
  "cells": [
    {
      "cell_type": "markdown",
      "metadata": {
        "id": "view-in-github",
        "colab_type": "text"
      },
      "source": [
        "<a href=\"https://colab.research.google.com/github/azizy-123/CognoRise-InfoTech-Internship/blob/main/Tic_Tac_Toc_PY.ipynb\" target=\"_parent\"><img src=\"https://colab.research.google.com/assets/colab-badge.svg\" alt=\"Open In Colab\"/></a>"
      ]
    },
    {
      "cell_type": "markdown",
      "metadata": {
        "id": "1pjEO6HLsyGn"
      },
      "source": [
        "**This is the full code of Tic Tac Toc game**"
      ]
    },
    {
      "cell_type": "code",
      "source": [
        "import os\n",
        "import random"
      ],
      "metadata": {
        "id": "5U7Vlo-6d4VK"
      },
      "execution_count": 6,
      "outputs": []
    },
    {
      "cell_type": "code",
      "source": [
        "def clear_screen():\n",
        "    os.system(\"cls\" if os.name == \"nt\" else \"clear\")"
      ],
      "metadata": {
        "id": "rioFPqYBd72i"
      },
      "execution_count": 7,
      "outputs": []
    },
    {
      "cell_type": "code",
      "source": [
        "class Player:\n",
        "    def __init__(self, name, symbol, is_ai=False):\n",
        "        self.name = name\n",
        "        self.symbol = symbol\n",
        "        self.is_ai = is_ai\n",
        "\n",
        "    def get_move(self, board):\n",
        "        if self.is_ai:\n",
        "            return self.get_ai_move(board)\n",
        "        else:\n",
        "            return self.get_human_move(board)\n",
        "\n",
        "    def get_human_move(self, board):\n",
        "        while True:\n",
        "            try:\n",
        "                move = int(input(f\"{self.name}, enter your move (1-9): \"))\n",
        "                if 1 <= move <= 9 and board.is_valid_move(move):\n",
        "                    return move\n",
        "                else:\n",
        "                    print(\"Invalid move. Try again.\")\n",
        "            except ValueError:\n",
        "                print(\"Please enter a number between 1 and 9.\")\n",
        "\n",
        "    def get_ai_move(self, board):\n",
        "        _, move = self.minimax(board, self.symbol, True)\n",
        "        return move + 1  # Convert to 1-9 range\n",
        "\n",
        "    def minimax(self, board, player, is_maximizing):\n",
        "        if board.check_win(self.symbol):\n",
        "            return 1, None\n",
        "        if board.check_win('X' if self.symbol == 'O' else 'O'):\n",
        "            return -1, None\n",
        "        if board.is_full():\n",
        "            return 0, None\n",
        "\n",
        "        if is_maximizing:\n",
        "            best_score = float('-inf')\n",
        "            best_move = None\n",
        "            for i in range(9):\n",
        "                if board.board[i] == ' ':\n",
        "                    board.board[i] = player\n",
        "                    score, _ = self.minimax(board, 'O' if player == 'X' else 'X', False)\n",
        "                    board.board[i] = ' '\n",
        "                    if score > best_score:\n",
        "                        best_score = score\n",
        "                        best_move = i\n",
        "            return best_score, best_move\n",
        "        else:\n",
        "            best_score = float('inf')\n",
        "            best_move = None\n",
        "            for i in range(9):\n",
        "                if board.board[i] == ' ':\n",
        "                    board.board[i] = player\n",
        "                    score, _ = self.minimax(board, 'O' if player == 'X' else 'X', True)\n",
        "                    board.board[i] = ' '\n",
        "                    if score < best_score:\n",
        "                        best_score = score\n",
        "                        best_move = i\n",
        "            return best_score, best_move\n"
      ],
      "metadata": {
        "id": "bodbuHvreGyk"
      },
      "execution_count": 8,
      "outputs": []
    },
    {
      "cell_type": "code",
      "source": [
        "class Menu:\n",
        "    def display_main_menu(self):\n",
        "        print(\"\\n=== Welcome to Tic Tac Toe ===\")\n",
        "        print(\"1. Play against AI\")\n",
        "        print(\"2. Play against another player\")\n",
        "        print(\"3. Exit Game\")\n",
        "        return input(\"Enter your choice (1, 2 or 3): \")\n",
        "\n",
        "    def display_endgame_menu(self):\n",
        "        print(\"\\n=== Game Over! ===\")\n",
        "        print(\"1. Play Again\")\n",
        "        print(\"2. Exit Game\")\n",
        "        return input(\"Enter your choice (1 or 2): \")\n"
      ],
      "metadata": {
        "id": "pDZGDNtDeKVs"
      },
      "execution_count": 9,
      "outputs": []
    },
    {
      "cell_type": "code",
      "source": [
        "class Board:\n",
        "    def __init__(self):\n",
        "        self.reset()\n",
        "\n",
        "    def reset(self):\n",
        "        self.board = [' ' for _ in range(9)]\n",
        "\n",
        "    def display_board(self):\n",
        "        print(\"\\n\")\n",
        "        for i in range(0, 9, 3):\n",
        "            print(\" | \".join(self.board[i:i+3]))\n",
        "            if i < 6:\n",
        "                print(\"-\" * 11)\n",
        "        print(\"\\n\")\n",
        "\n",
        "    def update_board(self, choice, symbol):\n",
        "        if self.is_valid_move(choice):\n",
        "            self.board[choice - 1] = symbol\n",
        "            return True\n",
        "        return False\n",
        "\n",
        "    def is_valid_move(self, choice):\n",
        "        return 1 <= choice <= 9 and self.board[choice - 1] == ' '\n",
        "\n",
        "    def is_full(self):\n",
        "        return ' ' not in self.board\n",
        "\n",
        "    def check_win(self, symbol):\n",
        "        win_combinations = [\n",
        "            [0, 1, 2], [3, 4, 5], [6, 7, 8],  # Rows\n",
        "            [0, 3, 6], [1, 4, 7], [2, 5, 8],  # Columns\n",
        "            [0, 4, 8], [2, 4, 6]  # Diagonals\n",
        "        ]\n",
        "        return any(all(self.board[i] == symbol for i in combo) for combo in win_combinations)"
      ],
      "metadata": {
        "id": "iBtOBpt5eM_K"
      },
      "execution_count": 10,
      "outputs": []
    },
    {
      "cell_type": "code",
      "source": [
        "class Game:\n",
        "    def __init__(self):\n",
        "        self.board = Board()\n",
        "        self.menu = Menu()\n",
        "\n",
        "    def start_game(self):\n",
        "        while True:\n",
        "            choice = self.menu.display_main_menu()\n",
        "            if choice == \"1\":\n",
        "                self.play_game(ai_opponent=True)\n",
        "            elif choice == \"2\":\n",
        "                self.play_game(ai_opponent=False)\n",
        "            elif choice == \"3\":\n",
        "                self.quit_game()\n",
        "                break\n",
        "            else:\n",
        "                print(\"Invalid choice. Please enter 1, 2, or 3.\")\n",
        "\n",
        "    def play_game(self, ai_opponent):\n",
        "        clear_screen()\n",
        "        self.board.reset()  # Reset the board at the start of each game\n",
        "        human_name = input(\"Enter your name: \")\n",
        "        human_symbol = self.choose_symbol(human_name)\n",
        "        ai_symbol = 'O' if human_symbol == 'X' else 'X'\n",
        "\n",
        "        players = [\n",
        "            Player(human_name, human_symbol),\n",
        "            Player(\"AI\", ai_symbol, is_ai=True) if ai_opponent else Player(\"Player 2\", ai_symbol)\n",
        "        ]\n",
        "\n",
        "        current_player_index = 0 if human_symbol == 'X' else 1\n",
        "\n",
        "        while True:\n",
        "            self.play_turn(players[current_player_index])\n",
        "            if self.check_game_over(players[current_player_index]):\n",
        "                break\n",
        "            current_player_index = 1 - current_player_index\n",
        "\n",
        "        choice = self.menu.display_endgame_menu()\n",
        "        if choice == \"1\":\n",
        "            self.play_game(ai_opponent)\n",
        "        else:\n",
        "            self.quit_game()\n",
        "\n",
        "    def play_turn(self, player):\n",
        "        self.board.display_board()\n",
        "        print(f\"{player.name}'s turn ({player.symbol})\")\n",
        "        move = player.get_move(self.board)\n",
        "        self.board.update_board(move, player.symbol)\n",
        "        clear_screen()\n",
        "\n",
        "    def check_game_over(self, player):\n",
        "        if self.board.check_win(player.symbol):\n",
        "            self.board.display_board()\n",
        "            print(f\"\\nCongratulations! {player.name} ({player.symbol}) wins!\")\n",
        "            return True\n",
        "        if self.board.is_full():\n",
        "            self.board.display_board()\n",
        "            print(\"\\nIt's a draw!\")\n",
        "            return True\n",
        "        return False\n",
        "\n",
        "    def choose_symbol(self, name):\n",
        "        while True:\n",
        "            symbol = input(f\"{name}, choose your symbol (X or O): \").upper()\n",
        "            if symbol in ['X', 'O']:\n",
        "                return symbol\n",
        "            print(\"Invalid choice. Please enter X or O.\")\n",
        "\n",
        "    def quit_game(self):\n",
        "        print(\"Thank you for playing Tic Tac Toe!\")\n",
        "\n",
        "if __name__ == \"__main__\":\n",
        "    game = Game()\n",
        "    game.start_game()\n"
      ],
      "metadata": {
        "colab": {
          "base_uri": "https://localhost:8080/"
        },
        "id": "GpkiL8bbb97Y",
        "outputId": "64f7a626-8025-46b3-e119-fe006b39e959"
      },
      "execution_count": null,
      "outputs": [
        {
          "output_type": "stream",
          "name": "stdout",
          "text": [
            "\n",
            "=== Welcome to Tic Tac Toe ===\n",
            "1. Play against AI\n",
            "2. Play against another player\n",
            "3. Exit Game\n"
          ]
        }
      ]
    },
    {
      "cell_type": "code",
      "source": [],
      "metadata": {
        "id": "nSOI65smb_D9"
      },
      "execution_count": null,
      "outputs": []
    }
  ],
  "metadata": {
    "colab": {
      "provenance": [],
      "authorship_tag": "ABX9TyPx3jJwjXCEYsygH7E/Y3aT",
      "include_colab_link": true
    },
    "kernelspec": {
      "display_name": "Python 3",
      "name": "python3"
    },
    "language_info": {
      "name": "python"
    }
  },
  "nbformat": 4,
  "nbformat_minor": 0
}